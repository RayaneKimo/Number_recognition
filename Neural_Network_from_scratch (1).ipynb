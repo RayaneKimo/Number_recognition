{
 "nbformat": 4,
 "nbformat_minor": 0,
 "metadata": {
  "colab": {
   "name": "Neural Network from scratch.ipynb",
   "provenance": [],
   "collapsed_sections": []
  },
  "kernelspec": {
   "name": "python3",
   "display_name": "Python 3"
  },
  "language_info": {
   "name": "python"
  },
  "accelerator": "GPU",
  "gpuClass": "standard"
 },
 "cells": [
  {
   "cell_type": "code",
   "execution_count": 1,
   "metadata": {
    "id": "CZmn1clv9_hY",
    "pycharm": {
     "name": "#%%\n"
    }
   },
   "outputs": [],
   "source": [
    "import pandas as pd\n",
    "import cv2 as cv"
   ]
  },
  {
   "cell_type": "code",
   "execution_count": 2,
   "outputs": [],
   "source": [
    "import idx2numpy\n",
    "import numpy as np\n",
    "\n",
    "images_train = idx2numpy.convert_from_file('train-images-idx3-ubyte')\n",
    "labels_train =idx2numpy.convert_from_file('train-labels.idx1-ubyte')\n",
    "images_test = idx2numpy.convert_from_file('t10k-images-idx3-ubyte')\n",
    "labels_test = idx2numpy.convert_from_file('t10k-labels-idx1-ubyte')"
   ],
   "metadata": {
    "collapsed": false,
    "pycharm": {
     "name": "#%%\n"
    }
   }
  },
  {
   "cell_type": "code",
   "source": [
    "def vectorized_result(j):\n",
    "    e = np.zeros((10,1))\n",
    "    e[j] = 1.0\n",
    "    return e"
   ],
   "metadata": {
    "id": "ngD9QiULU2wC",
    "pycharm": {
     "name": "#%%\n"
    }
   },
   "execution_count": 3,
   "outputs": []
  },
  {
   "cell_type": "markdown",
   "source": [],
   "metadata": {
    "collapsed": false,
    "pycharm": {
     "name": "#%% md\n"
    }
   }
  },
  {
   "cell_type": "code",
   "execution_count": 4,
   "outputs": [],
   "source": [
    "def GaussianBlurGrisLvlReduct(image):\n",
    "    image = cv.GaussianBlur(image.reshape(28,28),(7,7),0.2).astype(np.uint8)\n",
    "    image = np.reshape(np.round(image*(3/255))*(255/3),(784,1))\n",
    "    return image"
   ],
   "metadata": {
    "collapsed": false,
    "pycharm": {
     "name": "#%%\n"
    }
   }
  },
  {
   "cell_type": "code",
   "execution_count": 4,
   "outputs": [],
   "source": [],
   "metadata": {
    "collapsed": false,
    "pycharm": {
     "name": "#%%\n"
    }
   }
  },
  {
   "cell_type": "code",
   "source": [
    "training_inputs=[GaussianBlurGrisLvlReduct(image) for image in images_train]\n",
    "training_results =[vectorized_result(label) for label in labels_train]\n",
    "test_inputs = [GaussianBlurGrisLvlReduct(image) for image in images_test]\n",
    "test_results = [int(label) for label in labels_test]"
   ],
   "metadata": {
    "id": "6Ahy6ZUZzbmy",
    "pycharm": {
     "name": "#%%\n"
    }
   },
   "execution_count": 5,
   "outputs": []
  },
  {
   "cell_type": "code",
   "execution_count": 6,
   "outputs": [],
   "source": [
    "train_data =list(zip(training_inputs,training_results))\n",
    "test_data = list(zip(test_inputs,test_results))"
   ],
   "metadata": {
    "collapsed": false,
    "pycharm": {
     "name": "#%%\n"
    }
   }
  },
  {
   "cell_type": "code",
   "source": [
    "# test_inputs=[np.reshape(row[1:].ravel(),(784,1)) for index, row in df_test.iterrows()]"
   ],
   "metadata": {
    "id": "P2Qf-4RGzzB3",
    "pycharm": {
     "name": "#%%\n"
    }
   },
   "execution_count": 164,
   "outputs": []
  },
  {
   "cell_type": "code",
   "source": [
    "# test_results = [row[0] for index, row in df_test.iterrows()]"
   ],
   "metadata": {
    "id": "uF_IkFYDz8Vb",
    "pycharm": {
     "name": "#%%\n"
    }
   },
   "execution_count": 165,
   "outputs": []
  },
  {
   "cell_type": "code",
   "source": [
    "# training = list(zip(training_inputs, training_results)) #il faut trransformer en list après avoir zipper le tout\n",
    "# test = list(zip(test_inputs, test_results))"
   ],
   "metadata": {
    "id": "vUTylI2W0Ihz",
    "pycharm": {
     "name": "#%%\n"
    }
   },
   "execution_count": 173,
   "outputs": []
  },
  {
   "cell_type": "code",
   "source": [
    "# training = []\n",
    "# for index, row in df.iterrows():\n",
    "#   training.append((np.reshape(row[1:].ravel(),(784,1)), vectorized_result(row[0])))\n"
   ],
   "metadata": {
    "id": "UdufMV0aRH3Y",
    "pycharm": {
     "name": "#%%\n"
    }
   },
   "execution_count": 153,
   "outputs": []
  },
  {
   "cell_type": "code",
   "source": [
    "# test=[]\n",
    "# for index, row in df_test.iterrows():\n",
    "#   test.append((np.reshape(row[1:].ravel(),(784,1)),row[0]))"
   ],
   "metadata": {
    "id": "Drb2O_WnWtvG",
    "pycharm": {
     "name": "#%%\n"
    }
   },
   "execution_count": 154,
   "outputs": []
  },
  {
   "cell_type": "code",
   "source": [
    "import numpy as np"
   ],
   "metadata": {
    "id": "k02L1oUDAMkq",
    "pycharm": {
     "name": "#%%\n"
    }
   },
   "execution_count": 122,
   "outputs": []
  },
  {
   "cell_type": "code",
   "source": [
    "import matplotlib.pyplot as plt\n",
    "\n",
    "plt.imshow(training_inputs[5].reshape(28,28), cmap='gray')"
   ],
   "metadata": {
    "colab": {
     "base_uri": "https://localhost:8080/",
     "height": 282
    },
    "id": "TV-qLJ7M_vRv",
    "outputId": "7e6ea86a-7436-43ec-ea78-87e82fd5b0a6",
    "pycharm": {
     "name": "#%%\n"
    }
   },
   "execution_count": 123,
   "outputs": [
    {
     "data": {
      "text/plain": "<matplotlib.image.AxesImage at 0x29ad254b3a0>"
     },
     "execution_count": 123,
     "metadata": {},
     "output_type": "execute_result"
    },
    {
     "data": {
      "text/plain": "<Figure size 432x288 with 1 Axes>",
      "image/png": "[encoded data removed]"
     },
     "metadata": {
      "needs_background": "light"
     },
     "output_type": "display_data"
    }
   ]
  },
  {
   "cell_type": "code",
   "source": [
    "import random\n",
    "\n",
    "class Network (object):\n",
    "\n",
    "  def __init__(self, sizes):\n",
    "    self.num_layers = len(sizes)\n",
    "    self.sizes= sizes \n",
    "    self.biases = [np.random.randn(y,1) for y in sizes[1:] ]\n",
    "    self.weights = [np.random.randn(y,x) for x,y in zip(sizes[:-1],sizes[1:]) ]\n",
    "\n",
    "  def sigmoid(self, z):\n",
    "    return 1.0/(1.0+np.exp(-z))\n",
    "  \n",
    "  \n",
    "  def sigmoid_prime(self, z):\n",
    "    \"\"\"Derivative of the sigmoid function.\"\"\"\n",
    "    return self.sigmoid(z)*(1-self.sigmoid(z)) \n",
    "  \n",
    "  #a′=σ(wa+b) feedforward activation function\n",
    "  def feedforward(self, a):\n",
    "    #this is a loop which allows to propagate our input \"a\" through the network, so that each output \n",
    "    #is considered as an input of the next bridge (connexion of two layers)\n",
    "    for w,b in zip(self.weights, self.biases) :  # going through the network by iterating the bridges\n",
    "      a = self.sigmoid(np.dot(w,a)+b)\n",
    "    return a   # we return the final result of our propagation (the prediction)\n",
    "\n",
    "  def update_mini_batch(self,mini_batch, mu) :\n",
    "    nabla_b = [np.zeros(b.shape) for b in self.biases] #initialisation of the cost gradient matrix of biaises\n",
    "    nabla_w = [np.zeros(w.shape) for w in self.weights] # initialisation of the cost gradient matrix of weights\n",
    "    #for each individual in our mini_batch we are calculating the gradient of each individual cost then add it to the total gradient \n",
    "    #of the batch (nabla_w or nabla_b) \n",
    "    for x,y in mini_batch : \n",
    "      delta_nabla_b, delta_nabla_w = self.backprop(x,y)\n",
    "      nabla_b = [nb+dnb for nb, dnb in zip(nabla_b,delta_nabla_b)]\n",
    "      nabla_w = [nw+dnw for nw, dnw in zip(nabla_w, delta_nabla_w)]\n",
    "    self.weights = [ w-(mu/len(mini_batch))*nw for w, nw in zip(self.weights, nabla_w)]\n",
    "    self.biases = [ b-(mu/len(mini_batch))*nb for b, nb in zip(self.biases, nabla_b)]\n",
    "    \n",
    "  def backprop(self, x, y):\n",
    "        \"\"\"Return a tuple ``(nabla_b, nabla_w)`` representing the\n",
    "        gradient for the cost function C_x.  ``nabla_b`` and\n",
    "        ``nabla_w`` are layer-by-layer lists of numpy arrays, similar\n",
    "        to ``self.biases`` and ``self.weights``.\"\"\"\n",
    "        nabla_b = [np.zeros(b.shape) for b in self.biases]\n",
    "        nabla_w = [np.zeros(w.shape) for w in self.weights]\n",
    "        # feedforward\n",
    "        activation = x\n",
    "        activations = [x] # list to store all the activations, layer by layer\n",
    "        zs = [] # list to store all the z vectors, layer by layer\n",
    "        for b, w in zip(self.biases, self.weights):\n",
    "            z = np.dot(w, activation)+b\n",
    "            zs.append(z)\n",
    "            activation = self.sigmoid(z)\n",
    "            activations.append(activation)\n",
    "        # backward pass\n",
    "        delta = self.cost_derivative(activations[-1], y) * \\\n",
    "            self.sigmoid_prime(zs[-1])\n",
    "        nabla_b[-1] = delta\n",
    "        nabla_w[-1] = np.dot(delta, activations[-2].transpose())\n",
    "        # Note that the variable l in the loop below is used a little\n",
    "        # differently to the notation in Chapter 2 of the book.  Here,\n",
    "        # l = 1 means the last layer of neurons, l = 2 is the\n",
    "        # second-last layer, and so on.  It's a renumbering of the\n",
    "        # scheme in the book, used here to take advantage of the fact\n",
    "        # that Python can use negative indices in lists.\n",
    "        for l in range(2, self.num_layers):\n",
    "            z = zs[-l]\n",
    "            sp = self.sigmoid_prime(z)\n",
    "            delta = np.dot(self.weights[-l+1].transpose(), delta) * sp\n",
    "            nabla_b[-l] = delta\n",
    "            nabla_w[-l] = np.dot(delta, activations[-l-1].transpose())\n",
    "        return (nabla_b, nabla_w)\n",
    "\n",
    "  def evaluate(self, test_data):\n",
    "        \"\"\"Return the number of test inputs for which the neural\n",
    "        network outputs the correct result. Note that the neural\n",
    "        network's output is assumed to be the index of whichever\n",
    "        neuron in the final layer has the highest activation.\"\"\"\n",
    "        test_results = [(np.argmax(self.feedforward(x)), y)\n",
    "                        for (x, y) in test_data]\n",
    "        return sum(int(x == y) for (x, y) in test_results)\n",
    "\n",
    "  def cost_derivative(self, output_activations, y):\n",
    "        \"\"\"Return the vector of partial derivatives \\partial C_x /\n",
    "        \\partial a for the output activations.\"\"\"\n",
    "        return (output_activations-y)\n",
    "\n",
    "  def SGD(self, data_training, epochs, mini_batch_size, mu , test_data=None) :\n",
    "    #the training data is a list of tuples (x,y)\n",
    "    if(test_data) : n_test=len(test_data) \n",
    "    n= len(data_training)\n",
    "    for j in range(epochs) :\n",
    "      random.shuffle(data_training)\n",
    "      #dividing the hole training data into mani batches for one epoch\n",
    "      mini_batches = [ data_training[k:k+mini_batch_size] for  k in range(0,n,mini_batch_size)]\n",
    "\n",
    "      #strat of an apoch\n",
    "      for mini_batch in mini_batches :\n",
    "        self.update_mini_batch(mini_batch, mu)\n",
    "      #end of an epoch \n",
    "\n",
    "      if test_data : \n",
    "        print(\"Epoch {0}: {1} / {2}\".format(j,self.evaluate(test_data),n_test))\n",
    "      else :\n",
    "        print(\"Epoch {0} complete\".format(j))\n",
    "\n",
    "    \n",
    "\n"
   ],
   "metadata": {
    "id": "C2xz2Btq_-Ki",
    "pycharm": {
     "name": "#%%\n"
    }
   },
   "execution_count": 13,
   "outputs": []
  },
  {
   "cell_type": "code",
   "execution_count": 135,
   "outputs": [],
   "source": [
    "import random\n",
    "\n",
    "# Third-party libraries\n",
    "import numpy as np\n",
    "\n",
    "class Network(object):\n",
    "\n",
    "    def __init__(self, sizes):\n",
    "        \"\"\"The list ``sizes`` contains the number of neurons in the\n",
    "        respective layers of the network.  For example, if the list\n",
    "        was [2, 3, 1] then it would be a three-layer network, with the\n",
    "        first layer containing 2 neurons, the second layer 3 neurons,\n",
    "        and the third layer 1 neuron.  The biases and weights for the\n",
    "        network are initialized randomly, using a Gaussian\n",
    "        distribution with mean 0, and variance 1.  Note that the first\n",
    "        layer is assumed to be an input layer, and by convention we\n",
    "        won't set any biases for those neurons, since biases are only\n",
    "        ever used in computing the outputs from later layers.\"\"\"\n",
    "        self.num_layers = len(sizes)\n",
    "        self.sizes = sizes\n",
    "        self.biases = [np.random.randn(y, 1) for y in sizes[1:]]\n",
    "        self.weights = [np.random.randn(y, x)\n",
    "                        for x, y in zip(sizes[:-1], sizes[1:])]\n",
    "\n",
    "    def feedforward(self, a):\n",
    "        \"\"\"Return the output of the network if ``a`` is input.\"\"\"\n",
    "        for b, w in zip(self.biases, self.weights):\n",
    "            a = sigmoid(np.dot(w, a)+b)\n",
    "        return a\n",
    "\n",
    "    def SGD(self, training_data, epochs, mini_batch_size, eta,\n",
    "            test_data=None):\n",
    "        \"\"\"Train the neural network using mini-batch stochastic\n",
    "        gradient descent.  The ``training_data`` is a list of tuples\n",
    "        ``(x, y)`` representing the training inputs and the desired\n",
    "        outputs.  The other non-optional parameters are\n",
    "        self-explanatory.  If ``test_data`` is provided then the\n",
    "        network will be evaluated against the test data after each\n",
    "        epoch, and partial progress printed out.  This is useful for\n",
    "        tracking progress, but slows things down substantially.\"\"\"\n",
    "        if test_data: n_test = len(test_data)\n",
    "        n = len(training_data)\n",
    "        for j in range(epochs):\n",
    "            random.shuffle(training_data)\n",
    "            mini_batches = [\n",
    "                training_data[k:k+mini_batch_size]\n",
    "                for k in range(0, n, mini_batch_size)]\n",
    "            for mini_batch in mini_batches:\n",
    "                self.update_mini_batch(mini_batch, eta)\n",
    "            if test_data:\n",
    "                print(\"Epoch {0}: {1} / {2}\".format(\n",
    "                    j, self.evaluate(test_data), n_test))\n",
    "            else:\n",
    "                print(\"Epoch {0} complete\".format(j))\n",
    "\n",
    "    def update_mini_batch(self, mini_batch, eta):\n",
    "        \"\"\"Update the network's weights and biases by applying\n",
    "        gradient descent using backpropagation to a single mini batch.\n",
    "        The ``mini_batch`` is a list of tuples ``(x, y)``, and ``eta``\n",
    "        is the learning rate.\"\"\"\n",
    "        nabla_b = [np.zeros(b.shape) for b in self.biases]\n",
    "        nabla_w = [np.zeros(w.shape) for w in self.weights]\n",
    "        for x, y in mini_batch:\n",
    "            delta_nabla_b, delta_nabla_w = self.backprop(x, y)\n",
    "            nabla_b = [nb+dnb for nb, dnb in zip(nabla_b, delta_nabla_b)]\n",
    "            nabla_w = [nw+dnw for nw, dnw in zip(nabla_w, delta_nabla_w)]\n",
    "        self.weights = [w-(eta/len(mini_batch))*nw\n",
    "                        for w, nw in zip(self.weights, nabla_w)]\n",
    "        self.biases = [b-(eta/len(mini_batch))*nb\n",
    "                       for b, nb in zip(self.biases, nabla_b)]\n",
    "\n",
    "    def backprop(self, x, y):\n",
    "        \"\"\"Return a tuple ``(nabla_b, nabla_w)`` representing the\n",
    "        gradient for the cost function C_x.  ``nabla_b`` and\n",
    "        ``nabla_w`` are layer-by-layer lists of numpy arrays, similar\n",
    "        to ``self.biases`` and ``self.weights``.\"\"\"\n",
    "        nabla_b = [np.zeros(b.shape) for b in self.biases]\n",
    "        nabla_w = [np.zeros(w.shape) for w in self.weights]\n",
    "        # feedforward\n",
    "        activation = x\n",
    "        activations = [x] # list to store all the activations, layer by layer\n",
    "        zs = [] # list to store all the z vectors, layer by layer\n",
    "        for b, w in zip(self.biases, self.weights):\n",
    "            z = np.dot(w, activation)+b\n",
    "            zs.append(z)\n",
    "            activation = sigmoid(z)\n",
    "            activations.append(activation)\n",
    "        # backward pass\n",
    "        delta = self.cost_derivative(activations[-1], y) * \\\n",
    "            sigmoid_prime(zs[-1])\n",
    "        nabla_b[-1] = delta\n",
    "        nabla_w[-1] = np.dot(delta, activations[-2].transpose())\n",
    "        # Note that the variable l in the loop below is used a little\n",
    "        # differently to the notation in Chapter 2 of the book.  Here,\n",
    "        # l = 1 means the last layer of neurons, l = 2 is the\n",
    "        # second-last layer, and so on.  It's a renumbering of the\n",
    "        # scheme in the book, used here to take advantage of the fact\n",
    "        # that Python can use negative indices in lists.\n",
    "        for l in range(2, self.num_layers):\n",
    "            z = zs[-l]\n",
    "            sp = sigmoid_prime(z)\n",
    "            delta = np.dot(self.weights[-l+1].transpose(), delta) * sp\n",
    "            nabla_b[-l] = delta\n",
    "            nabla_w[-l] = np.dot(delta, activations[-l-1].transpose())\n",
    "        return (nabla_b, nabla_w)\n",
    "\n",
    "    def evaluate(self, test_data):\n",
    "        \"\"\"Return the number of test inputs for which the neural\n",
    "        network outputs the correct result. Note that the neural\n",
    "        network's output is assumed to be the index of whichever\n",
    "        neuron in the final layer has the highest activation.\"\"\"\n",
    "        test_results = [(np.argmax(self.feedforward(x)), y)\n",
    "                        for (x, y) in test_data]\n",
    "        return sum(int(x == y) for (x, y) in test_results)\n",
    "\n",
    "    def cost_derivative(self, output_activations, y):\n",
    "        \"\"\"Return the vector of partial derivatives \\partial C_x /\n",
    "        \\partial a for the output activations.\"\"\"\n",
    "        return (output_activations-y)\n",
    "\n",
    "#### Miscellaneous functions\n",
    "def sigmoid(z):\n",
    "    \"\"\"The sigmoid function.\"\"\"\n",
    "    return 1.0/(1.0+np.exp(-z))\n",
    "\n",
    "def sigmoid_prime(z):\n",
    "    \"\"\"Derivative of the sigmoid function.\"\"\"\n",
    "    return sigmoid(z)*(1-sigmoid(z))"
   ],
   "metadata": {
    "collapsed": false,
    "pycharm": {
     "name": "#%%\n"
    }
   }
  },
  {
   "cell_type": "code",
   "source": [
    "net = Network([784,30,10])"
   ],
   "metadata": {
    "id": "r1r3_r3fSyhw",
    "pycharm": {
     "name": "#%%\n"
    }
   },
   "execution_count": 153,
   "outputs": []
  },
  {
   "cell_type": "code",
   "source": [
    "net.SGD(train_data, 30 ,10, 1, test_data=test_data)"
   ],
   "metadata": {
    "colab": {
     "base_uri": "https://localhost:8080/"
    },
    "id": "D4KQOkoBbCW0",
    "outputId": "4f8fad60-4988-4836-9d4f-8037c842e57e",
    "pycharm": {
     "name": "#%%\n"
    }
   },
   "execution_count": 154,
   "outputs": [
    {
     "name": "stderr",
     "output_type": "stream",
     "text": [
      "<ipython-input-140-04fab635e91b>:12: RuntimeWarning: overflow encountered in exp\n",
      "  return 1.0/(1.0+np.exp(-z))\n"
     ]
    },
    {
     "name": "stdout",
     "output_type": "stream",
     "text": [
      "Epoch 0: 2607 / 10000\n",
      "Epoch 1: 4197 / 10000\n",
      "Epoch 2: 4078 / 10000\n",
      "Epoch 3: 3059 / 10000\n",
      "Epoch 4: 2228 / 10000\n",
      "Epoch 5: 2939 / 10000\n",
      "Epoch 6: 2881 / 10000\n",
      "Epoch 7: 2632 / 10000\n",
      "Epoch 8: 2587 / 10000\n",
      "Epoch 9: 3210 / 10000\n",
      "Epoch 10: 3410 / 10000\n",
      "Epoch 11: 3043 / 10000\n",
      "Epoch 12: 3503 / 10000\n",
      "Epoch 13: 3111 / 10000\n",
      "Epoch 14: 3113 / 10000\n",
      "Epoch 15: 3560 / 10000\n",
      "Epoch 16: 3359 / 10000\n",
      "Epoch 17: 3260 / 10000\n",
      "Epoch 18: 4383 / 10000\n",
      "Epoch 19: 4316 / 10000\n",
      "Epoch 20: 2635 / 10000\n",
      "Epoch 21: 3651 / 10000\n",
      "Epoch 22: 2691 / 10000\n",
      "Epoch 23: 3033 / 10000\n",
      "Epoch 24: 3751 / 10000\n",
      "Epoch 25: 3668 / 10000\n",
      "Epoch 26: 3647 / 10000\n",
      "Epoch 27: 3499 / 10000\n",
      "Epoch 28: 2985 / 10000\n",
      "Epoch 29: 2921 / 10000\n"
     ]
    }
   ]
  },
  {
   "cell_type": "code",
   "execution_count": null,
   "outputs": [],
   "source": [
    "from sklearn import svm\n",
    "\n",
    "model = svm.SVC()\n",
    "model.fit(np.reshape(training_inputs,(60000,784)),labels_train)\n"
   ],
   "metadata": {
    "collapsed": false,
    "pycharm": {
     "name": "#%%\n",
     "is_executing": true
    }
   }
  },
  {
   "cell_type": "code",
   "execution_count": null,
   "outputs": [],
   "source": [
    "import cv2 as cv\n",
    "img=cv.imread(\"neuf.png\")\n",
    "img=cv.cvtColor(img, cv.COLOR_BGR2GRAY)\n",
    "resized = np.array(cv.resize(img,[28,28],interpolation=cv.INTER_AREA))\n",
    "cv.imshow(resized)"
   ],
   "metadata": {
    "collapsed": false,
    "pycharm": {
     "name": "#%%\n"
    }
   }
  },
  {
   "cell_type": "code",
   "execution_count": 15,
   "outputs": [],
   "source": [
    "test= np.reshape(test_inputs,(10000,784))\n",
    "predictions =model.predict(test)"
   ],
   "metadata": {
    "collapsed": false,
    "pycharm": {
     "name": "#%%\n"
    }
   }
  },
  {
   "cell_type": "code",
   "execution_count": 16,
   "outputs": [
    {
     "name": "stdout",
     "output_type": "stream",
     "text": [
      "correct predictions : 9782/10000 \n"
     ]
    }
   ],
   "source": [
    "\n",
    "predictions=[int(value) for value in predictions]\n",
    "res = [int(value) for value in test_results]\n",
    "correct= sum(int(x==y) for x,y in zip(res,predictions))\n",
    "\n",
    "print(\"correct predictions : {0}/{1} \".format(correct,len(res)))"
   ],
   "metadata": {
    "collapsed": false,
    "pycharm": {
     "name": "#%%\n"
    }
   }
  },
  {
   "cell_type": "code",
   "execution_count": 18,
   "outputs": [],
   "source": [
    "import pickle\n",
    "\n",
    "with open('model_pkl', 'wb') as files:\n",
    "    pickle.dump(model, files)"
   ],
   "metadata": {
    "collapsed": false,
    "pycharm": {
     "name": "#%%\n"
    }
   }
  },
  {
   "cell_type": "code",
   "execution_count": null,
   "outputs": [],
   "source": [],
   "metadata": {
    "collapsed": false,
    "pycharm": {
     "name": "#%%\n"
    }
   }
  }
 ]
}